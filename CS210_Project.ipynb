{
  "nbformat": 4,
  "nbformat_minor": 0,
  "metadata": {
    "colab": {
      "provenance": []
    },
    "kernelspec": {
      "name": "python3",
      "display_name": "Python 3"
    },
    "language_info": {
      "name": "python"
    }
  },
  "cells": [
    {
      "cell_type": "code",
      "execution_count": 5,
      "metadata": {
        "colab": {
          "base_uri": "https://localhost:8080/",
          "height": 375
        },
        "id": "YesKTEVtuIri",
        "outputId": "73eb547e-c2f9-408b-eea0-b4695e3699f6"
      },
      "outputs": [
        {
          "output_type": "error",
          "ename": "AttributeError",
          "evalue": "ignored",
          "traceback": [
            "\u001b[0;31m---------------------------------------------------------------------------\u001b[0m",
            "\u001b[0;31mAttributeError\u001b[0m                            Traceback (most recent call last)",
            "\u001b[0;32m<ipython-input-5-557fa1efec29>\u001b[0m in \u001b[0;36m<cell line: 7>\u001b[0;34m()\u001b[0m\n\u001b[1;32m      5\u001b[0m \u001b[0mdata\u001b[0m \u001b[0;34m=\u001b[0m \u001b[0mr\u001b[0m\u001b[0;34m.\u001b[0m\u001b[0mjson\u001b[0m\u001b[0;34m(\u001b[0m\u001b[0;34m)\u001b[0m\u001b[0;34m\u001b[0m\u001b[0;34m\u001b[0m\u001b[0m\n\u001b[1;32m      6\u001b[0m \u001b[0;34m\u001b[0m\u001b[0m\n\u001b[0;32m----> 7\u001b[0;31m \u001b[0mpd\u001b[0m\u001b[0;34m.\u001b[0m\u001b[0mfrom_dict\u001b[0m\u001b[0;34m(\u001b[0m\u001b[0mdata\u001b[0m\u001b[0;34m)\u001b[0m\u001b[0;34m\u001b[0m\u001b[0;34m\u001b[0m\u001b[0m\n\u001b[0m\u001b[1;32m      8\u001b[0m \u001b[0;34m\u001b[0m\u001b[0m\n\u001b[1;32m      9\u001b[0m \u001b[0mprint\u001b[0m\u001b[0;34m(\u001b[0m\u001b[0mpd\u001b[0m\u001b[0;34m.\u001b[0m\u001b[0mhead\u001b[0m\u001b[0;34m)\u001b[0m\u001b[0;34m\u001b[0m\u001b[0;34m\u001b[0m\u001b[0m\n",
            "\u001b[0;32m/usr/local/lib/python3.10/dist-packages/pandas/__init__.py\u001b[0m in \u001b[0;36m__getattr__\u001b[0;34m(name)\u001b[0m\n\u001b[1;32m    262\u001b[0m         \u001b[0;32mreturn\u001b[0m \u001b[0m_SparseArray\u001b[0m\u001b[0;34m\u001b[0m\u001b[0;34m\u001b[0m\u001b[0m\n\u001b[1;32m    263\u001b[0m \u001b[0;34m\u001b[0m\u001b[0m\n\u001b[0;32m--> 264\u001b[0;31m     \u001b[0;32mraise\u001b[0m \u001b[0mAttributeError\u001b[0m\u001b[0;34m(\u001b[0m\u001b[0;34mf\"module 'pandas' has no attribute '{name}'\"\u001b[0m\u001b[0;34m)\u001b[0m\u001b[0;34m\u001b[0m\u001b[0;34m\u001b[0m\u001b[0m\n\u001b[0m\u001b[1;32m    265\u001b[0m \u001b[0;34m\u001b[0m\u001b[0m\n\u001b[1;32m    266\u001b[0m \u001b[0;34m\u001b[0m\u001b[0m\n",
            "\u001b[0;31mAttributeError\u001b[0m: module 'pandas' has no attribute 'from_dict'"
          ]
        }
      ],
      "source": [
        "import requests\n",
        "import pandas as pd\n",
        "url = 'https://www.alphavantage.co/query?function=TIME_SERIES_INTRADAY&symbol=IBM&interval=5min&apikey=OYW80W00A0UMM8ZE'\n",
        "r = requests.get(url)\n",
        "data = r.json()"
      ]
    },
    {
      "cell_type": "code",
      "source": [
        "print(data)\n",
        "df = pd.DataFrame(data=data['Time Series (5min)'])\n",
        "\n",
        "print(df.head)"
      ],
      "metadata": {
        "colab": {
          "base_uri": "https://localhost:8080/"
        },
        "id": "GGazvp8Yu40v",
        "outputId": "45e65dba-16f4-4c57-94f0-cf3404f7dcec"
      },
      "execution_count": 8,
      "outputs": [
        {
          "output_type": "stream",
          "name": "stdout",
          "text": [
            "{'Meta Data': {'1. Information': 'Intraday (5min) open, high, low, close prices and volume', '2. Symbol': 'IBM', '3. Last Refreshed': '2023-12-05 19:50:00', '4. Interval': '5min', '5. Output Size': 'Compact', '6. Time Zone': 'US/Eastern'}, 'Time Series (5min)': {'2023-12-05 19:50:00': {'1. open': '161.6000', '2. high': '161.6900', '3. low': '161.6000', '4. close': '161.6900', '5. volume': '65'}, '2023-12-05 19:40:00': {'1. open': '161.7100', '2. high': '162.0800', '3. low': '161.3900', '4. close': '162.0800', '5. volume': '592'}, '2023-12-05 19:35:00': {'1. open': '162.1800', '2. high': '162.1800', '3. low': '161.5200', '4. close': '161.5200', '5. volume': '93'}, '2023-12-05 19:30:00': {'1. open': '161.7900', '2. high': '161.7900', '3. low': '161.7900', '4. close': '161.7900', '5. volume': '4'}, '2023-12-05 19:25:00': {'1. open': '161.7900', '2. high': '161.7900', '3. low': '161.6000', '4. close': '161.6000', '5. volume': '7'}, '2023-12-05 19:20:00': {'1. open': '161.8800', '2. high': '161.8800', '3. low': '161.8800', '4. close': '161.8800', '5. volume': '1'}, '2023-12-05 19:15:00': {'1. open': '161.6600', '2. high': '161.8800', '3. low': '161.6600', '4. close': '161.6900', '5. volume': '90'}, '2023-12-05 19:10:00': {'1. open': '161.7000', '2. high': '161.9200', '3. low': '161.6800', '4. close': '161.6800', '5. volume': '28'}, '2023-12-05 19:05:00': {'1. open': '161.6300', '2. high': '161.9800', '3. low': '161.6300', '4. close': '161.9800', '5. volume': '24'}, '2023-12-05 19:00:00': {'1. open': '161.3900', '2. high': '161.5000', '3. low': '161.3900', '4. close': '161.4900', '5. volume': '980269'}, '2023-12-05 18:55:00': {'1. open': '161.4900', '2. high': '161.4950', '3. low': '161.4900', '4. close': '161.4950', '5. volume': '8'}, '2023-12-05 18:45:00': {'1. open': '161.3900', '2. high': '161.3900', '3. low': '161.3900', '4. close': '161.3900', '5. volume': '500'}, '2023-12-05 18:40:00': {'1. open': '161.3600', '2. high': '161.3900', '3. low': '161.3600', '4. close': '161.3900', '5. volume': '130'}, '2023-12-05 18:30:00': {'1. open': '161.3900', '2. high': '161.3900', '3. low': '161.3900', '4. close': '161.3900', '5. volume': '980266'}, '2023-12-05 18:20:00': {'1. open': '161.3900', '2. high': '161.3900', '3. low': '161.3900', '4. close': '161.3900', '5. volume': '60'}, '2023-12-05 18:15:00': {'1. open': '161.3800', '2. high': '161.3900', '3. low': '161.3800', '4. close': '161.3900', '5. volume': '190'}, '2023-12-05 18:10:00': {'1. open': '161.3800', '2. high': '161.3890', '3. low': '161.3700', '4. close': '161.3890', '5. volume': '18'}, '2023-12-05 18:05:00': {'1. open': '161.3900', '2. high': '161.3900', '3. low': '161.3900', '4. close': '161.3900', '5. volume': '61'}, '2023-12-05 18:00:00': {'1. open': '161.3900', '2. high': '161.3900', '3. low': '161.3600', '4. close': '161.3900', '5. volume': '78'}, '2023-12-05 17:50:00': {'1. open': '161.3900', '2. high': '161.3900', '3. low': '161.3900', '4. close': '161.3900', '5. volume': '2'}, '2023-12-05 17:45:00': {'1. open': '161.3700', '2. high': '161.3700', '3. low': '161.3700', '4. close': '161.3700', '5. volume': '4'}, '2023-12-05 17:40:00': {'1. open': '161.3700', '2. high': '161.3800', '3. low': '161.3700', '4. close': '161.3800', '5. volume': '12'}, '2023-12-05 17:35:00': {'1. open': '161.3800', '2. high': '161.3800', '3. low': '161.3500', '4. close': '161.3800', '5. volume': '133'}, '2023-12-05 17:30:00': {'1. open': '161.3800', '2. high': '161.3800', '3. low': '161.3800', '4. close': '161.3800', '5. volume': '3'}, '2023-12-05 17:25:00': {'1. open': '161.4800', '2. high': '161.4800', '3. low': '161.3700', '4. close': '161.3800', '5. volume': '618'}, '2023-12-05 17:20:00': {'1. open': '161.4400', '2. high': '161.4400', '3. low': '161.4400', '4. close': '161.4400', '5. volume': '1'}, '2023-12-05 17:15:00': {'1. open': '161.4500', '2. high': '161.4500', '3. low': '161.4400', '4. close': '161.4400', '5. volume': '102'}, '2023-12-05 17:10:00': {'1. open': '161.3800', '2. high': '161.4990', '3. low': '161.3800', '4. close': '161.4700', '5. volume': '35'}, '2023-12-05 17:00:00': {'1. open': '161.4900', '2. high': '161.4900', '3. low': '161.4900', '4. close': '161.4900', '5. volume': '3'}, '2023-12-05 16:50:00': {'1. open': '161.4200', '2. high': '161.4200', '3. low': '161.4200', '4. close': '161.4200', '5. volume': '1'}, '2023-12-05 16:45:00': {'1. open': '161.5000', '2. high': '161.5000', '3. low': '161.5000', '4. close': '161.5000', '5. volume': '1'}, '2023-12-05 16:40:00': {'1. open': '161.4900', '2. high': '161.4900', '3. low': '161.4200', '4. close': '161.4900', '5. volume': '7'}, '2023-12-05 16:35:00': {'1. open': '161.4900', '2. high': '161.4900', '3. low': '161.4900', '4. close': '161.4900', '5. volume': '1'}, '2023-12-05 16:30:00': {'1. open': '161.4000', '2. high': '161.4900', '3. low': '161.4000', '4. close': '161.4900', '5. volume': '67'}, '2023-12-05 16:25:00': {'1. open': '161.5000', '2. high': '161.5000', '3. low': '161.4900', '4. close': '161.4900', '5. volume': '107'}, '2023-12-05 16:20:00': {'1. open': '161.3900', '2. high': '161.8800', '3. low': '161.3900', '4. close': '161.8800', '5. volume': '2161'}, '2023-12-05 16:15:00': {'1. open': '161.3900', '2. high': '161.6300', '3. low': '161.3900', '4. close': '161.3900', '5. volume': '999'}, '2023-12-05 16:10:00': {'1. open': '161.3900', '2. high': '161.6800', '3. low': '161.3500', '4. close': '161.3500', '5. volume': '980303'}, '2023-12-05 16:05:00': {'1. open': '161.4200', '2. high': '161.6600', '3. low': '161.3900', '4. close': '161.6500', '5. volume': '5738'}, '2023-12-05 16:00:00': {'1. open': '161.4200', '2. high': '161.7200', '3. low': '161.3900', '4. close': '161.3900', '5. volume': '2109199'}, '2023-12-05 15:55:00': {'1. open': '161.5550', '2. high': '161.5550', '3. low': '161.3000', '4. close': '161.3900', '5. volume': '316416'}, '2023-12-05 15:50:00': {'1. open': '161.6400', '2. high': '161.6900', '3. low': '161.5100', '4. close': '161.5500', '5. volume': '124223'}, '2023-12-05 15:45:00': {'1. open': '161.6950', '2. high': '161.7050', '3. low': '161.5950', '4. close': '161.6450', '5. volume': '71739'}, '2023-12-05 15:40:00': {'1. open': '161.6950', '2. high': '161.8000', '3. low': '161.6500', '4. close': '161.7000', '5. volume': '48192'}, '2023-12-05 15:35:00': {'1. open': '161.7600', '2. high': '161.7900', '3. low': '161.5900', '4. close': '161.7000', '5. volume': '68725'}, '2023-12-05 15:30:00': {'1. open': '161.6700', '2. high': '161.7900', '3. low': '161.6700', '4. close': '161.7560', '5. volume': '53249'}, '2023-12-05 15:25:00': {'1. open': '161.6650', '2. high': '161.6850', '3. low': '161.5590', '4. close': '161.6800', '5. volume': '40344'}, '2023-12-05 15:20:00': {'1. open': '161.7200', '2. high': '161.7300', '3. low': '161.6100', '4. close': '161.6600', '5. volume': '30877'}, '2023-12-05 15:15:00': {'1. open': '161.5500', '2. high': '161.7200', '3. low': '161.5500', '4. close': '161.7150', '5. volume': '33274'}, '2023-12-05 15:10:00': {'1. open': '161.5250', '2. high': '161.5630', '3. low': '161.4700', '4. close': '161.5600', '5. volume': '35637'}, '2023-12-05 15:05:00': {'1. open': '161.4150', '2. high': '161.5400', '3. low': '161.4150', '4. close': '161.5300', '5. volume': '28576'}, '2023-12-05 15:00:00': {'1. open': '161.5500', '2. high': '161.5500', '3. low': '161.3900', '4. close': '161.4200', '5. volume': '41784'}, '2023-12-05 14:55:00': {'1. open': '161.5100', '2. high': '161.5700', '3. low': '161.4700', '4. close': '161.5500', '5. volume': '34046'}, '2023-12-05 14:50:00': {'1. open': '161.4720', '2. high': '161.5500', '3. low': '161.4720', '4. close': '161.5100', '5. volume': '31221'}, '2023-12-05 14:45:00': {'1. open': '161.4600', '2. high': '161.4850', '3. low': '161.4100', '4. close': '161.4800', '5. volume': '23343'}, '2023-12-05 14:40:00': {'1. open': '161.4200', '2. high': '161.4780', '3. low': '161.4000', '4. close': '161.4600', '5. volume': '32904'}, '2023-12-05 14:35:00': {'1. open': '161.4300', '2. high': '161.4400', '3. low': '161.3300', '4. close': '161.4100', '5. volume': '33860'}, '2023-12-05 14:30:00': {'1. open': '161.4400', '2. high': '161.4800', '3. low': '161.4270', '4. close': '161.4300', '5. volume': '29082'}, '2023-12-05 14:25:00': {'1. open': '161.4700', '2. high': '161.4800', '3. low': '161.4100', '4. close': '161.4300', '5. volume': '30849'}, '2023-12-05 14:20:00': {'1. open': '161.6100', '2. high': '161.6250', '3. low': '161.4700', '4. close': '161.4800', '5. volume': '39249'}, '2023-12-05 14:15:00': {'1. open': '161.6500', '2. high': '161.6500', '3. low': '161.5200', '4. close': '161.6100', '5. volume': '45982'}, '2023-12-05 14:10:00': {'1. open': '161.6000', '2. high': '161.7100', '3. low': '161.6000', '4. close': '161.6400', '5. volume': '26475'}, '2023-12-05 14:05:00': {'1. open': '161.6100', '2. high': '161.6950', '3. low': '161.5500', '4. close': '161.6000', '5. volume': '33679'}, '2023-12-05 14:00:00': {'1. open': '161.7000', '2. high': '161.7200', '3. low': '161.6050', '4. close': '161.6100', '5. volume': '32320'}, '2023-12-05 13:55:00': {'1. open': '161.8100', '2. high': '161.8100', '3. low': '161.6600', '4. close': '161.7000', '5. volume': '40134'}, '2023-12-05 13:50:00': {'1. open': '161.8000', '2. high': '161.8110', '3. low': '161.7620', '4. close': '161.8020', '5. volume': '24424'}, '2023-12-05 13:45:00': {'1. open': '161.8900', '2. high': '161.9500', '3. low': '161.7720', '4. close': '161.8000', '5. volume': '25385'}, '2023-12-05 13:40:00': {'1. open': '161.8820', '2. high': '161.9450', '3. low': '161.7200', '4. close': '161.8900', '5. volume': '25174'}, '2023-12-05 13:35:00': {'1. open': '161.9100', '2. high': '161.9650', '3. low': '161.7900', '4. close': '161.9000', '5. volume': '24704'}, '2023-12-05 13:30:00': {'1. open': '161.9800', '2. high': '162.0500', '3. low': '161.8690', '4. close': '161.9000', '5. volume': '30162'}, '2023-12-05 13:25:00': {'1. open': '162.0000', '2. high': '162.0500', '3. low': '161.9600', '4. close': '161.9700', '5. volume': '24423'}, '2023-12-05 13:20:00': {'1. open': '162.0350', '2. high': '162.0500', '3. low': '161.9600', '4. close': '161.9900', '5. volume': '15398'}, '2023-12-05 13:15:00': {'1. open': '161.8800', '2. high': '162.0500', '3. low': '161.8800', '4. close': '162.0200', '5. volume': '22718'}, '2023-12-05 13:10:00': {'1. open': '161.9400', '2. high': '161.9900', '3. low': '161.8300', '4. close': '161.8800', '5. volume': '35493'}, '2023-12-05 13:05:00': {'1. open': '162.1250', '2. high': '162.1300', '3. low': '161.9200', '4. close': '161.9510', '5. volume': '42915'}, '2023-12-05 13:00:00': {'1. open': '162.1400', '2. high': '162.2400', '3. low': '162.1250', '4. close': '162.1250', '5. volume': '31536'}, '2023-12-05 12:55:00': {'1. open': '161.9300', '2. high': '162.1630', '3. low': '161.9300', '4. close': '162.1630', '5. volume': '23451'}, '2023-12-05 12:50:00': {'1. open': '161.9800', '2. high': '162.0050', '3. low': '161.8740', '4. close': '161.9400', '5. volume': '29647'}, '2023-12-05 12:45:00': {'1. open': '162.0900', '2. high': '162.1250', '3. low': '161.9600', '4. close': '161.9800', '5. volume': '79319'}, '2023-12-05 12:40:00': {'1. open': '162.2100', '2. high': '162.2700', '3. low': '162.0900', '4. close': '162.0900', '5. volume': '44856'}, '2023-12-05 12:35:00': {'1. open': '162.1400', '2. high': '162.2000', '3. low': '162.1200', '4. close': '162.2000', '5. volume': '22719'}, '2023-12-05 12:30:00': {'1. open': '162.1600', '2. high': '162.2500', '3. low': '162.1300', '4. close': '162.1400', '5. volume': '25332'}, '2023-12-05 12:25:00': {'1. open': '161.9700', '2. high': '162.1800', '3. low': '161.9600', '4. close': '162.1800', '5. volume': '28108'}, '2023-12-05 12:20:00': {'1. open': '161.9200', '2. high': '162.0750', '3. low': '161.9200', '4. close': '161.9900', '5. volume': '29885'}, '2023-12-05 12:15:00': {'1. open': '162.0000', '2. high': '162.0100', '3. low': '161.8300', '4. close': '161.9400', '5. volume': '30711'}, '2023-12-05 12:10:00': {'1. open': '162.0800', '2. high': '162.0900', '3. low': '161.9400', '4. close': '162.0000', '5. volume': '38197'}, '2023-12-05 12:05:00': {'1. open': '162.1000', '2. high': '162.2900', '3. low': '162.0600', '4. close': '162.0600', '5. volume': '82218'}, '2023-12-05 12:00:00': {'1. open': '162.1100', '2. high': '162.1500', '3. low': '162.0300', '4. close': '162.0900', '5. volume': '35592'}, '2023-12-05 11:55:00': {'1. open': '162.0700', '2. high': '162.1600', '3. low': '162.0700', '4. close': '162.1100', '5. volume': '24314'}, '2023-12-05 11:50:00': {'1. open': '162.1050', '2. high': '162.2350', '3. low': '162.0200', '4. close': '162.0700', '5. volume': '28295'}, '2023-12-05 11:45:00': {'1. open': '162.2200', '2. high': '162.2600', '3. low': '162.0900', '4. close': '162.1250', '5. volume': '34198'}, '2023-12-05 11:40:00': {'1. open': '162.4000', '2. high': '162.4700', '3. low': '162.2100', '4. close': '162.2100', '5. volume': '32850'}, '2023-12-05 11:35:00': {'1. open': '162.1200', '2. high': '162.4300', '3. low': '162.1050', '4. close': '162.3900', '5. volume': '52610'}, '2023-12-05 11:30:00': {'1. open': '162.0400', '2. high': '162.1400', '3. low': '162.0000', '4. close': '162.1100', '5. volume': '42929'}, '2023-12-05 11:25:00': {'1. open': '161.8700', '2. high': '162.0650', '3. low': '161.8300', '4. close': '162.0200', '5. volume': '43551'}, '2023-12-05 11:20:00': {'1. open': '161.6800', '2. high': '161.8800', '3. low': '161.6800', '4. close': '161.8800', '5. volume': '25414'}, '2023-12-05 11:15:00': {'1. open': '161.9850', '2. high': '161.9850', '3. low': '161.6100', '4. close': '161.6800', '5. volume': '37140'}, '2023-12-05 11:10:00': {'1. open': '161.8300', '2. high': '161.9800', '3. low': '161.7900', '4. close': '161.9620', '5. volume': '25078'}, '2023-12-05 11:05:00': {'1. open': '161.8900', '2. high': '161.9400', '3. low': '161.8220', '4. close': '161.8220', '5. volume': '31108'}, '2023-12-05 11:00:00': {'1. open': '162.0500', '2. high': '162.0800', '3. low': '161.8800', '4. close': '161.8800', '5. volume': '35458'}}}\n",
            "<bound method NDFrame.head of           2023-12-05 19:50:00 2023-12-05 19:40:00 2023-12-05 19:35:00  \\\n",
            "1. open              161.6000            161.7100            162.1800   \n",
            "2. high              161.6900            162.0800            162.1800   \n",
            "3. low               161.6000            161.3900            161.5200   \n",
            "4. close             161.6900            162.0800            161.5200   \n",
            "5. volume                  65                 592                  93   \n",
            "\n",
            "          2023-12-05 19:30:00 2023-12-05 19:25:00 2023-12-05 19:20:00  \\\n",
            "1. open              161.7900            161.7900            161.8800   \n",
            "2. high              161.7900            161.7900            161.8800   \n",
            "3. low               161.7900            161.6000            161.8800   \n",
            "4. close             161.7900            161.6000            161.8800   \n",
            "5. volume                   4                   7                   1   \n",
            "\n",
            "          2023-12-05 19:15:00 2023-12-05 19:10:00 2023-12-05 19:05:00  \\\n",
            "1. open              161.6600            161.7000            161.6300   \n",
            "2. high              161.8800            161.9200            161.9800   \n",
            "3. low               161.6600            161.6800            161.6300   \n",
            "4. close             161.6900            161.6800            161.9800   \n",
            "5. volume                  90                  28                  24   \n",
            "\n",
            "          2023-12-05 19:00:00  ... 2023-12-05 11:45:00 2023-12-05 11:40:00  \\\n",
            "1. open              161.3900  ...            162.2200            162.4000   \n",
            "2. high              161.5000  ...            162.2600            162.4700   \n",
            "3. low               161.3900  ...            162.0900            162.2100   \n",
            "4. close             161.4900  ...            162.1250            162.2100   \n",
            "5. volume              980269  ...               34198               32850   \n",
            "\n",
            "          2023-12-05 11:35:00 2023-12-05 11:30:00 2023-12-05 11:25:00  \\\n",
            "1. open              162.1200            162.0400            161.8700   \n",
            "2. high              162.4300            162.1400            162.0650   \n",
            "3. low               162.1050            162.0000            161.8300   \n",
            "4. close             162.3900            162.1100            162.0200   \n",
            "5. volume               52610               42929               43551   \n",
            "\n",
            "          2023-12-05 11:20:00 2023-12-05 11:15:00 2023-12-05 11:10:00  \\\n",
            "1. open              161.6800            161.9850            161.8300   \n",
            "2. high              161.8800            161.9850            161.9800   \n",
            "3. low               161.6800            161.6100            161.7900   \n",
            "4. close             161.8800            161.6800            161.9620   \n",
            "5. volume               25414               37140               25078   \n",
            "\n",
            "          2023-12-05 11:05:00 2023-12-05 11:00:00  \n",
            "1. open              161.8900            162.0500  \n",
            "2. high              161.9400            162.0800  \n",
            "3. low               161.8220            161.8800  \n",
            "4. close             161.8220            161.8800  \n",
            "5. volume               31108               35458  \n",
            "\n",
            "[5 rows x 100 columns]>\n"
          ]
        }
      ]
    },
    {
      "cell_type": "code",
      "source": [
        "url2 = 'https://www.alphavantage.co/query?function=OVERVIEW&symbol=IBM&apikey=OYW80W00A0UMM8ZE'\n",
        "r2 = requests.get(url2)\n",
        "data2 = r2.json()\n",
        "\n",
        "print(data2)"
      ],
      "metadata": {
        "colab": {
          "base_uri": "https://localhost:8080/"
        },
        "id": "WXiQbW4nwcu3",
        "outputId": "178141b7-cf1c-40ce-97b7-b19a02f8709a"
      },
      "execution_count": 10,
      "outputs": [
        {
          "output_type": "stream",
          "name": "stdout",
          "text": [
            "{'Symbol': 'IBM', 'AssetType': 'Common Stock', 'Name': 'International Business Machines', 'Description': 'International Business Machines Corporation (IBM) is an American multinational technology company headquartered in Armonk, New York, with operations in over 170 countries. The company began in 1911, founded in Endicott, New York, as the Computing-Tabulating-Recording Company (CTR) and was renamed International Business Machines in 1924. IBM is incorporated in New York. IBM produces and sells computer hardware, middleware and software, and provides hosting and consulting services in areas ranging from mainframe computers to nanotechnology. IBM is also a major research organization, holding the record for most annual U.S. patents generated by a business (as of 2020) for 28 consecutive years. Inventions by IBM include the automated teller machine (ATM), the floppy disk, the hard disk drive, the magnetic stripe card, the relational database, the SQL programming language, the UPC barcode, and dynamic random-access memory (DRAM). The IBM mainframe, exemplified by the System/360, was the dominant computing platform during the 1960s and 1970s.', 'CIK': '51143', 'Exchange': 'NYSE', 'Currency': 'USD', 'Country': 'USA', 'Sector': 'TECHNOLOGY', 'Industry': 'COMPUTER & OFFICE EQUIPMENT', 'Address': '1 NEW ORCHARD ROAD, ARMONK, NY, US', 'FiscalYearEnd': 'December', 'LatestQuarter': '2023-09-30', 'MarketCapitalization': '147103465000', 'EBITDA': '13663000000', 'PERatio': '20.79', 'PEGRatio': '0.429', 'BookValue': '25.28', 'DividendPerShare': '6.62', 'DividendYield': '0.0412', 'EPS': '7.75', 'RevenuePerShareTTM': '67.3', 'ProfitMargin': '0.113', 'OperatingMarginTTM': '0.145', 'ReturnOnAssetsTTM': '0.0455', 'ReturnOnEquityTTM': '0.328', 'RevenueTTM': '61170999000', 'GrossProfitTTM': '32688000000', 'DilutedEPSTTM': '7.75', 'QuarterlyEarningsGrowthYOY': '0.126', 'QuarterlyRevenueGrowthYOY': '0.046', 'AnalystTargetPrice': '147.43', 'TrailingPE': '20.79', 'ForwardPE': '16.08', 'PriceToSalesRatioTTM': '2.397', 'PriceToBookRatio': '6.35', 'EVToRevenue': '3.174', 'EVToEBITDA': '13.73', 'Beta': '0.772', '52WeekHigh': '162.79', '52WeekLow': '117.38', '50DayMovingAverage': '146.25', '200DayMovingAverage': '137.01', 'SharesOutstanding': '913119000', 'DividendDate': '2023-12-09', 'ExDividendDate': '2023-11-09'}\n"
          ]
        }
      ]
    },
    {
      "cell_type": "code",
      "source": [
        "symbols = ['IBM', 'TSLA']\n",
        "details = []\n",
        "for i in symbols:\n",
        "  url3 = 'https://www.alphavantage.co/query?function=OVERVIEW&symbol=' + i + '&apikey=OYW80W00A0UMM8ZE'\n",
        "  r3 = requests.get(url3)\n",
        "  details.append(r3.json())\n",
        "\n",
        "print(details)"
      ],
      "metadata": {
        "colab": {
          "base_uri": "https://localhost:8080/"
        },
        "id": "Ip4o8A_9wwjO",
        "outputId": "5757ca17-596f-4275-f9b0-eaedebe75543"
      },
      "execution_count": 16,
      "outputs": [
        {
          "output_type": "stream",
          "name": "stdout",
          "text": [
            "[{'Symbol': 'IBM', 'AssetType': 'Common Stock', 'Name': 'International Business Machines', 'Description': 'International Business Machines Corporation (IBM) is an American multinational technology company headquartered in Armonk, New York, with operations in over 170 countries. The company began in 1911, founded in Endicott, New York, as the Computing-Tabulating-Recording Company (CTR) and was renamed International Business Machines in 1924. IBM is incorporated in New York. IBM produces and sells computer hardware, middleware and software, and provides hosting and consulting services in areas ranging from mainframe computers to nanotechnology. IBM is also a major research organization, holding the record for most annual U.S. patents generated by a business (as of 2020) for 28 consecutive years. Inventions by IBM include the automated teller machine (ATM), the floppy disk, the hard disk drive, the magnetic stripe card, the relational database, the SQL programming language, the UPC barcode, and dynamic random-access memory (DRAM). The IBM mainframe, exemplified by the System/360, was the dominant computing platform during the 1960s and 1970s.', 'CIK': '51143', 'Exchange': 'NYSE', 'Currency': 'USD', 'Country': 'USA', 'Sector': 'TECHNOLOGY', 'Industry': 'COMPUTER & OFFICE EQUIPMENT', 'Address': '1 NEW ORCHARD ROAD, ARMONK, NY, US', 'FiscalYearEnd': 'December', 'LatestQuarter': '2023-09-30', 'MarketCapitalization': '147103465000', 'EBITDA': '13663000000', 'PERatio': '20.79', 'PEGRatio': '0.429', 'BookValue': '25.28', 'DividendPerShare': '6.62', 'DividendYield': '0.0412', 'EPS': '7.75', 'RevenuePerShareTTM': '67.3', 'ProfitMargin': '0.113', 'OperatingMarginTTM': '0.145', 'ReturnOnAssetsTTM': '0.0455', 'ReturnOnEquityTTM': '0.328', 'RevenueTTM': '61170999000', 'GrossProfitTTM': '32688000000', 'DilutedEPSTTM': '7.75', 'QuarterlyEarningsGrowthYOY': '0.126', 'QuarterlyRevenueGrowthYOY': '0.046', 'AnalystTargetPrice': '147.43', 'TrailingPE': '20.79', 'ForwardPE': '16.08', 'PriceToSalesRatioTTM': '2.397', 'PriceToBookRatio': '6.35', 'EVToRevenue': '3.174', 'EVToEBITDA': '13.73', 'Beta': '0.772', '52WeekHigh': '162.79', '52WeekLow': '117.38', '50DayMovingAverage': '146.25', '200DayMovingAverage': '137.01', 'SharesOutstanding': '913119000', 'DividendDate': '2023-12-09', 'ExDividendDate': '2023-11-09'}, {'Symbol': 'TSLA', 'AssetType': 'Common Stock', 'Name': 'Tesla Inc', 'Description': \"Tesla, Inc. is an American electric vehicle and clean energy company based in Palo Alto, California. Tesla's current products include electric cars, battery energy storage from home to grid-scale, solar panels and solar roof tiles, as well as other related products and services. In 2020, Tesla had the highest sales in the plug-in and battery electric passenger car segments, capturing 16% of the plug-in market (which includes plug-in hybrids) and 23% of the battery-electric (purely electric) market. Through its subsidiary Tesla Energy, the company develops and is a major installer of solar photovoltaic energy generation systems in the United States. Tesla Energy is also one of the largest global suppliers of battery energy storage systems, with 3 GWh of battery storage supplied in 2020.\", 'CIK': '1318605', 'Exchange': 'NASDAQ', 'Currency': 'USD', 'Country': 'USA', 'Sector': 'MANUFACTURING', 'Industry': 'MOTOR VEHICLES & PASSENGER CAR BODIES', 'Address': '3500 DEER CREEK RD, PALO ALTO, CA, US', 'FiscalYearEnd': 'December', 'LatestQuarter': '2023-09-30', 'MarketCapitalization': '758871753000', 'EBITDA': '15152000000', 'PERatio': '75.78', 'PEGRatio': '2.655', 'BookValue': '16.82', 'DividendPerShare': '0', 'DividendYield': '0', 'EPS': '3.15', 'RevenuePerShareTTM': '30.28', 'ProfitMargin': '0.112', 'OperatingMarginTTM': '0.0756', 'ReturnOnAssetsTTM': '0.0797', 'ReturnOnEquityTTM': '0.225', 'RevenueTTM': '95924003000', 'GrossProfitTTM': '20853000000', 'DilutedEPSTTM': '3.15', 'QuarterlyEarningsGrowthYOY': '-0.442', 'QuarterlyRevenueGrowthYOY': '0.088', 'AnalystTargetPrice': '224.9', 'TrailingPE': '75.78', 'ForwardPE': '64.94', 'PriceToSalesRatioTTM': '7.91', 'PriceToBookRatio': '14.01', 'EVToRevenue': '7.62', 'EVToEBITDA': '44.79', 'Beta': '2.262', '52WeekHigh': '299.29', '52WeekLow': '101.81', '50DayMovingAverage': '234.64', '200DayMovingAverage': '224.2', 'SharesOutstanding': '3178920000', 'DividendDate': 'None', 'ExDividendDate': 'None'}]\n"
          ]
        }
      ]
    }
  ]
}